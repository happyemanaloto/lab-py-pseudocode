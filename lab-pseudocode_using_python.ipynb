{
 "cells": [
  {
   "cell_type": "markdown",
   "metadata": {},
   "source": [
    "# LAB | Pseudocode Using Python\n",
    "\n",
    "## Overview\n",
    "\n",
    "This exercise will help you practice writing pseudocode and translating it into Python code. Pseudocode is a way to describe algorithms in a human-readable format, which can then be implemented in programming languages.\n",
    "\n"
   ]
  },
  {
   "cell_type": "markdown",
   "metadata": {},
   "source": [
    "### Exercise 1: Multiply Two Numbers\n",
    "\n",
    "Write a pseudocode to read two numbers and multiply them together. Then, write the equivalent Python code."
   ]
  },
  {
   "cell_type": "markdown",
   "metadata": {},
   "source": [
    "<!-- Add your pseudocode here -->"
   ]
  },
  {
   "cell_type": "code",
   "execution_count": null,
   "metadata": {},
   "outputs": [
    {
     "name": "stdout",
     "output_type": "stream",
     "text": [
      "50\n"
     ]
    }
   ],
   "source": [
    "# Enter 2 numbers\n",
    "# num1= input 1\n",
    "# num2 = input 2\n",
    "#  Multiply the two numbers\n",
    "# num1*num2\n",
    "#  Add your code solution here\n",
    "\n",
    "def multiply(n1, n2):\n",
    "    \"\"\"\n",
    "    This function takes two numbers as input and returns their product.\n",
    "    \"\"\"\n",
    "    return num1 * num2\n",
    "\n",
    "num1 = int(input(\"Enter the first number: \"))\n",
    "num2 = int(input(\"Enter the second number: \"))\n",
    "# num1 = 5\n",
    "# num2 = 10\n",
    "product = multiply(num1, num2)\n",
    "print (product)"
   ]
  },
  {
   "cell_type": "markdown",
   "metadata": {},
   "source": [
    "### Exercise 2: Check Even or Odd\n",
    "\n",
    "Write pseudocode that checks if a number is even or odd and prints the result. Then, write the equivalent Python code."
   ]
  },
  {
   "cell_type": "markdown",
   "metadata": {},
   "source": [
    "<!-- Add your pseudocode here -->"
   ]
  },
  {
   "cell_type": "code",
   "execution_count": 2,
   "metadata": {},
   "outputs": [
    {
     "name": "stdout",
     "output_type": "stream",
     "text": [
      "The number 23 is odd.\n"
     ]
    }
   ],
   "source": [
    "# divide the product by 2 and check the remainder\n",
    "# if remainder is 0, then the product is even, else it is odd \n",
    "number = 23\n",
    "if number % 2 == 0:\n",
    "    print(f\"The number {number} is even.\") \n",
    "else:\n",
    "    print(f\"The number {number} is odd.\")   "
   ]
  },
  {
   "cell_type": "markdown",
   "metadata": {},
   "source": [
    "### Exercise 3: Sum of First N Natural Numbers\n",
    "\n",
    "Write pseudocode to calculate the sum of the first N natural numbers. Then, write the equivalent Python code."
   ]
  },
  {
   "cell_type": "markdown",
   "metadata": {},
   "source": [
    "<!-- Add your pseudocode here -->"
   ]
  },
  {
   "cell_type": "code",
   "execution_count": null,
   "metadata": {},
   "outputs": [
    {
     "name": "stdout",
     "output_type": "stream",
     "text": [
      "The sum of the first 10 natural numbers is: 55\n"
     ]
    }
   ],
   "source": [
    "# sum of natural numbers formula is (N*(N+1))/2\n",
    "#write a function that takes a number n as input and returns the sum of the first n natural numbers using the formula\n",
    "# print results\n",
    "\n",
    "def sum_of_natural_numbers(n):\n",
    "    \"\"\"\n",
    "    This function takes a number n as input and returns the sum of the first n natural numbers.\n",
    "    \"\"\"\n",
    "    return (n * (n + 1)) // 2\n",
    "n = int(input(\"Enter a number to find the sum of natural numbers: \"))\n",
    "# n = 10\n",
    "sum_natural = sum_of_natural_numbers(n)\n",
    "print(f\"The sum of the first {n} natural numbers is: {sum_natural}\")"
   ]
  },
  {
   "cell_type": "markdown",
   "metadata": {},
   "source": [
    "### Exercise 4: Find Maximum of Three Numbers\n",
    "\n",
    "Write pseudocode that finds the maximum of three numbers entered by the user. Then, write the equivalent Python code."
   ]
  },
  {
   "cell_type": "markdown",
   "metadata": {},
   "source": [
    "<!-- Add your pseudocode here -->"
   ]
  },
  {
   "cell_type": "code",
   "execution_count": null,
   "metadata": {},
   "outputs": [
    {
     "name": "stdout",
     "output_type": "stream",
     "text": [
      "The maximum of the three numbers is: 15\n"
     ]
    }
   ],
   "source": [
    "# identify 3 numbers\n",
    "# find maximum of the three numbers\n",
    "# print the maximum number\n",
    "def find_max(num1, num2, num3):\n",
    "    \"\"\"\n",
    "    This function takes three numbers as input and returns the maximum of the three.\n",
    "    \"\"\"\n",
    "    max_num = max(num1, num2, num3)\n",
    "    return max_num\n",
    "num1 = int(input(\"Enter the first number: \"))\n",
    "num2 = int(input(\"Enter the second number: \"))\n",
    "num3 = int(input(\"Enter the third number: \"))\n",
    "\n",
    "# num1 = 5\n",
    "# num2 = 10 \n",
    "# num3 = 15\n",
    "max_number = find_max(num1, num2, num3)\n",
    "print(f\"The maximum of the three numbers is: {max_number}\")"
   ]
  },
  {
   "cell_type": "markdown",
   "metadata": {},
   "source": [
    "### Exercise 5: Count Vowels in a String\n",
    "\n",
    "Write pseudocode to count the number of vowels in a given string and print the count. Then, write the equivalent Python code."
   ]
  },
  {
   "cell_type": "markdown",
   "metadata": {},
   "source": [
    "<!-- Add your pseudocode here -->"
   ]
  },
  {
   "cell_type": "code",
   "execution_count": null,
   "metadata": {},
   "outputs": [
    {
     "name": "stdout",
     "output_type": "stream",
     "text": [
      "The number of vowels in the string is: 3\n"
     ]
    }
   ],
   "source": [
    "# set all letters to lowercase\n",
    "# create a pattern for vowels\n",
    "# match each letter in the string with the pattern\n",
    "# count the number of vowels\n",
    "#provide a string to count the vowels\n",
    "# call function to count the vowels\n",
    "# print the number of vowels\n",
    "import re\n",
    "def count_vowels(string):\n",
    "    \"\"\"\n",
    "    This function takes a string as input and returns the number of vowels in the string.\n",
    "    \"\"\"\n",
    "    string = string.lower()\n",
    "    pattern = r'[aeiou]'\n",
    "    vowels = re.findall(pattern, string)\n",
    "    return len(vowels)\n",
    "string_input = input(\"Enter a string to count the vowels: \")\n",
    "# string_input = \"Hello World\"\n",
    "vowel_count = count_vowels(string_input)\n",
    "print(f\"The number of vowels in the string is: {vowel_count}\")"
   ]
  },
  {
   "cell_type": "markdown",
   "metadata": {},
   "source": [
    "## Bonus Exercises\n",
    "\n",
    "### Bonus Exercise 6: Reverse a String\n",
    "\n",
    "Write pseudocode to reverse a given string and print it out."
   ]
  },
  {
   "cell_type": "markdown",
   "metadata": {},
   "source": [
    "<!-- Add your pseudocode here -->"
   ]
  },
  {
   "cell_type": "code",
   "execution_count": null,
   "metadata": {},
   "outputs": [
    {
     "name": "stdout",
     "output_type": "stream",
     "text": [
      "The reversed string is: dlroW olleH\n"
     ]
    }
   ],
   "source": [
    "# Read the string from right to left, backwards\n",
    "# store in variable reverse\n",
    "# print reverse\n",
    "def reverse_string(string):\n",
    "    \"\"\"\n",
    "    This function takes a string as input and returns the string reversed.\n",
    "    \"\"\"\n",
    "    return string[::-1]\n",
    "string_input = input(\"Enter a string to reverse: \")\n",
    "# string_input = \"Hello World\"      \n",
    "reversed_string = reverse_string(string_input)\n",
    "print(f\"The reversed string is: {reversed_string}\")"
   ]
  },
  {
   "cell_type": "markdown",
   "metadata": {},
   "source": [
    "### Bonus Exercise 7: Print Multiplication Table of a Number\n",
    "\n",
    "Write pseudocode to print the multiplication table of a given number up to 10."
   ]
  },
  {
   "cell_type": "markdown",
   "metadata": {},
   "source": [
    "<!-- Add your pseudocode here -->"
   ]
  },
  {
   "cell_type": "code",
   "execution_count": null,
   "metadata": {},
   "outputs": [
    {
     "name": "stdout",
     "output_type": "stream",
     "text": [
      "5 x 1 = 5\n",
      "5 x 2 = 10\n",
      "5 x 3 = 15\n",
      "5 x 4 = 20\n",
      "5 x 5 = 25\n",
      "5 x 6 = 30\n",
      "5 x 7 = 35\n",
      "5 x 8 = 40\n",
      "5 x 9 = 45\n",
      "5 x 10 = 50\n"
     ]
    }
   ],
   "source": [
    "# get the number for the multiplication table\n",
    "# loop 10 times from 1 to 10\n",
    "# multiply the number with the loop variable\n",
    "# print the line by line of the table\n",
    "def multiplication_table(number):\n",
    "    \"\"\"\n",
    "    This function takes a number as input and prints its multiplication table from 1 to 10.\n",
    "    \"\"\"\n",
    "    for i in range(1, 11):\n",
    "        print(f\"{number} x {i} = {number * i}\")\n",
    "number = int(input(\"Enter a number to print its multiplication table: \"))\n",
    "# number = 5 \n",
    "multiplication_table(number)"
   ]
  },
  {
   "cell_type": "markdown",
   "metadata": {},
   "source": [
    "### Bonus Exercise 8: Count Words in a String\n",
    "\n",
    "Write pseudocode that counts the words in a given string and prints the result."
   ]
  },
  {
   "cell_type": "markdown",
   "metadata": {},
   "source": [
    "<!-- Add your pseudocode here -->"
   ]
  },
  {
   "cell_type": "code",
   "execution_count": null,
   "metadata": {},
   "outputs": [
    {
     "name": "stdout",
     "output_type": "stream",
     "text": [
      "The number of words in the string is: 2\n"
     ]
    }
   ],
   "source": [
    "# Retrieve string from user\n",
    "# create a pattern for the words in the string\n",
    "# match each word in the string with the pattern\n",
    "# count the number of words\n",
    "\n",
    "def count_words(string):\n",
    "    \"\"\"\n",
    "    This function takes a string as input and returns the number of words in the string.\n",
    "    \"\"\"\n",
    "    pattern = r'\\b\\w+\\b'\n",
    "    words = re.findall(pattern, string)\n",
    "    return len(words)\n",
    "string_input = input(\"Enter a string to count the words: \")\n",
    "# string_input = \"Hello World\"\n",
    "word_count = count_words(string_input)  \n",
    "print(f\"The number of words in the string is: {word_count}\")"
   ]
  },
  {
   "cell_type": "markdown",
   "metadata": {},
   "source": [
    "### Bonus Exercise 9: Find Factorial of a Number\n",
    "\n",
    "Write pseudocode that calculates the factorial of a given positive integer."
   ]
  },
  {
   "cell_type": "markdown",
   "metadata": {},
   "source": [
    "<!-- Add your pseudocode here -->"
   ]
  },
  {
   "cell_type": "code",
   "execution_count": null,
   "metadata": {},
   "outputs": [
    {
     "name": "stdout",
     "output_type": "stream",
     "text": [
      "The factorial of 5 is: 120\n"
     ]
    }
   ],
   "source": [
    "# Ask the user for a postivive integer\n",
    "# check if the number is positive\n",
    "# if not, print an error message\n",
    "# if it is positive, get the factorial\n",
    "def factorial(n):\n",
    "    \"\"\"\n",
    "    This function takes a positive integer n as input and returns its factorial.\n",
    "    \"\"\"\n",
    "    if n == 0 or n == 1:\n",
    "        return 1\n",
    "    else:\n",
    "        return n * factorial(n - 1)\n",
    "number = int(input(\"Enter a positive integer to find its factorial: \"))\n",
    "# number = 5    \n",
    "if number < 0:\n",
    "    print(\"Error: Please enter a positive integer.\")\n",
    "else:\n",
    "    fact = factorial(number)\n",
    "    print(f\"The factorial of {number} is: {fact}\")\n"
   ]
  },
  {
   "cell_type": "markdown",
   "metadata": {},
   "source": [
    "### Bonus Exercise 10: FizzBuzz Problem\n",
    "\n",
    "Write pseudocode for the FizzBuzz problem where you print numbers from 1 to N but replace multiples of three with \"Fizz\" and multiples of five with \"Buzz\"."
   ]
  },
  {
   "cell_type": "markdown",
   "metadata": {},
   "source": [
    "<!-- Add your pseudocode here -->"
   ]
  },
  {
   "cell_type": "code",
   "execution_count": null,
   "metadata": {},
   "outputs": [
    {
     "name": "stdout",
     "output_type": "stream",
     "text": [
      "1\n",
      "2\n",
      "Fizz\n",
      "4\n",
      "Buzz\n",
      "Fizz\n",
      "7\n",
      "8\n",
      "Fizz\n",
      "Buzz\n",
      "11\n",
      "Fizz\n",
      "13\n",
      "14\n",
      "FizzBuzz\n"
     ]
    }
   ],
   "source": [
    "# Ask the user for a number\n",
    "# iterate from 1 to the number\n",
    "# check if the number is divisible by 3\n",
    "# if it is, print \"Fizz\"\n",
    "# check if the number is divisible by 5\n",
    "# if it is, print \"Buzz\"\n",
    "# check if the number is divisible by both 3 and 5\n",
    "# if it is, print \"FizzBuzz\"\n",
    "def fizzbuzz(n):\n",
    "    \"\"\"\n",
    "    This function takes a number n as input and prints \"Fizz\" for multiples of 3,\n",
    "    \"Buzz\" for multiples of 5, and \"FizzBuzz\" for multiples of both.\n",
    "    \"\"\"\n",
    "    for i in range(1, n + 1):\n",
    "        if i % 3 == 0 and i % 5 == 0:\n",
    "            print(\"FizzBuzz\")\n",
    "        elif i % 3 == 0:\n",
    "            print(\"Fizz\")\n",
    "        elif i % 5 == 0:\n",
    "            print(\"Buzz\")\n",
    "        else:\n",
    "            print(i)            \n",
    "number = int(input(\"Enter a number for FizzBuzz: \"))\n",
    "# number = 15\n",
    "fizzbuzz(number)    \n"
   ]
  }
 ],
 "metadata": {
  "kernelspec": {
   "display_name": "base",
   "language": "python",
   "name": "python3"
  },
  "language_info": {
   "codemirror_mode": {
    "name": "ipython",
    "version": 3
   },
   "file_extension": ".py",
   "mimetype": "text/x-python",
   "name": "python",
   "nbconvert_exporter": "python",
   "pygments_lexer": "ipython3",
   "version": "3.12.7"
  }
 },
 "nbformat": 4,
 "nbformat_minor": 2
}
